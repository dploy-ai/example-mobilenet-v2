{
 "cells": [
  {
   "cell_type": "markdown",
   "metadata": {},
   "source": [
    "# Object Detection using SSD-MobileNet V2"
   ]
  },
  {
   "cell_type": "code",
   "execution_count": 2,
   "metadata": {},
   "outputs": [],
   "source": [
    "# Image Manipulation Packages\n",
    "from io import BytesIO\n",
    "from PIL import Image\n",
    "import base64\n",
    "import time\n",
    "\n",
    "# Object detection model\n",
    "import tensorflow_hub as hub\n",
    "\n",
    "# Helper Functions\n",
    "from draw import BoundingBox, Rectangle\n",
    "from model import ObjectDetection"
   ]
  },
  {
   "cell_type": "markdown",
   "metadata": {},
   "source": [
    "### Load MobileNetV2 Model"
   ]
  },
  {
   "cell_type": "code",
   "execution_count": 2,
   "metadata": {},
   "outputs": [
    {
     "name": "stdout",
     "output_type": "stream",
     "text": [
      "INFO:tensorflow:Saver not created because there are no variables in the graph to restore\n"
     ]
    },
    {
     "name": "stderr",
     "output_type": "stream",
     "text": [
      "INFO:tensorflow:Saver not created because there are no variables in the graph to restore\n"
     ]
    },
    {
     "data": {
      "text/plain": [
       "{'detection_class_labels': <tf.Tensor: shape=(100,), dtype=int64, numpy=\n",
       " array([433, 433, 308,  69, 308,  69, 281, 502, 121, 502,  69, 434, 514,\n",
       "        434, 434,  99, 517, 281, 502, 503, 434,  99, 433, 434, 434, 434,\n",
       "         97,  97,  97, 434, 434, 434, 281, 503, 434,  97, 433, 433, 434,\n",
       "        434, 434, 253, 434, 434, 502, 434,  97, 503, 121, 281, 434, 281,\n",
       "        503, 281, 433, 503, 281, 434, 434,  69, 121, 281, 434, 434, 503,\n",
       "        281, 281, 503, 434, 517, 281, 434,  69,  97, 502, 433,  69, 503,\n",
       "        434, 503, 281,  97, 466, 433, 281, 503,  99,  99, 433,  97,  97,\n",
       "        434, 281,  99, 281, 221,  97, 121,  69,  99])>,\n",
       " 'detection_class_entities': <tf.Tensor: shape=(100,), dtype=string, numpy=\n",
       " array([b'Clothing', b'Clothing', b'Man', b'Person', b'Man', b'Person',\n",
       "        b'Table', b'Human face', b'Desk', b'Human face', b'Person',\n",
       "        b'Footwear', b'Jeans', b'Footwear', b'Footwear', b'Poster',\n",
       "        b'Drawer', b'Table', b'Human face', b'Human arm', b'Footwear',\n",
       "        b'Poster', b'Clothing', b'Footwear', b'Footwear', b'Footwear',\n",
       "        b'Chair', b'Chair', b'Chair', b'Footwear', b'Footwear',\n",
       "        b'Footwear', b'Table', b'Human arm', b'Footwear', b'Chair',\n",
       "        b'Clothing', b'Clothing', b'Footwear', b'Footwear', b'Footwear',\n",
       "        b'Human hair', b'Footwear', b'Footwear', b'Human face',\n",
       "        b'Footwear', b'Chair', b'Human arm', b'Desk', b'Table',\n",
       "        b'Footwear', b'Table', b'Human arm', b'Table', b'Clothing',\n",
       "        b'Human arm', b'Table', b'Footwear', b'Footwear', b'Person',\n",
       "        b'Desk', b'Table', b'Footwear', b'Footwear', b'Human arm',\n",
       "        b'Table', b'Table', b'Human arm', b'Footwear', b'Drawer', b'Table',\n",
       "        b'Footwear', b'Person', b'Chair', b'Human face', b'Clothing',\n",
       "        b'Person', b'Human arm', b'Footwear', b'Human arm', b'Table',\n",
       "        b'Chair', b'Furniture', b'Clothing', b'Table', b'Human arm',\n",
       "        b'Poster', b'Poster', b'Clothing', b'Chair', b'Chair', b'Footwear',\n",
       "        b'Table', b'Poster', b'Table', b'Human leg', b'Chair', b'Desk',\n",
       "        b'Person', b'Poster'], dtype=object)>,\n",
       " 'detection_class_names': <tf.Tensor: shape=(100,), dtype=string, numpy=\n",
       " array([b'/m/09j2d', b'/m/09j2d', b'/m/04yx4', b'/m/01g317', b'/m/04yx4',\n",
       "        b'/m/01g317', b'/m/04bcr3', b'/m/0dzct', b'/m/01y9k5', b'/m/0dzct',\n",
       "        b'/m/01g317', b'/m/09j5n', b'/m/0fly7', b'/m/09j5n', b'/m/09j5n',\n",
       "        b'/m/01n5jq', b'/m/0fqfqc', b'/m/04bcr3', b'/m/0dzct', b'/m/0dzf4',\n",
       "        b'/m/09j5n', b'/m/01n5jq', b'/m/09j2d', b'/m/09j5n', b'/m/09j5n',\n",
       "        b'/m/09j5n', b'/m/01mzpv', b'/m/01mzpv', b'/m/01mzpv', b'/m/09j5n',\n",
       "        b'/m/09j5n', b'/m/09j5n', b'/m/04bcr3', b'/m/0dzf4', b'/m/09j5n',\n",
       "        b'/m/01mzpv', b'/m/09j2d', b'/m/09j2d', b'/m/09j5n', b'/m/09j5n',\n",
       "        b'/m/09j5n', b'/m/03q69', b'/m/09j5n', b'/m/09j5n', b'/m/0dzct',\n",
       "        b'/m/09j5n', b'/m/01mzpv', b'/m/0dzf4', b'/m/01y9k5', b'/m/04bcr3',\n",
       "        b'/m/09j5n', b'/m/04bcr3', b'/m/0dzf4', b'/m/04bcr3', b'/m/09j2d',\n",
       "        b'/m/0dzf4', b'/m/04bcr3', b'/m/09j5n', b'/m/09j5n', b'/m/01g317',\n",
       "        b'/m/01y9k5', b'/m/04bcr3', b'/m/09j5n', b'/m/09j5n', b'/m/0dzf4',\n",
       "        b'/m/04bcr3', b'/m/04bcr3', b'/m/0dzf4', b'/m/09j5n', b'/m/0fqfqc',\n",
       "        b'/m/04bcr3', b'/m/09j5n', b'/m/01g317', b'/m/01mzpv', b'/m/0dzct',\n",
       "        b'/m/09j2d', b'/m/01g317', b'/m/0dzf4', b'/m/09j5n', b'/m/0dzf4',\n",
       "        b'/m/04bcr3', b'/m/01mzpv', b'/m/0c_jw', b'/m/09j2d', b'/m/04bcr3',\n",
       "        b'/m/0dzf4', b'/m/01n5jq', b'/m/01n5jq', b'/m/09j2d', b'/m/01mzpv',\n",
       "        b'/m/01mzpv', b'/m/09j5n', b'/m/04bcr3', b'/m/01n5jq',\n",
       "        b'/m/04bcr3', b'/m/035r7c', b'/m/01mzpv', b'/m/01y9k5',\n",
       "        b'/m/01g317', b'/m/01n5jq'], dtype=object)>,\n",
       " 'detection_boxes': <tf.Tensor: shape=(100, 4), dtype=float32, numpy=\n",
       " array([[0.30307344, 0.22068194, 0.98130894, 0.44025865],\n",
       "        [0.36149293, 0.4244036 , 0.97047466, 0.6391619 ],\n",
       "        [0.25130823, 0.20922382, 0.97715557, 0.44382656],\n",
       "        [0.31095833, 0.41388738, 0.99038345, 0.6436955 ],\n",
       "        [0.31095833, 0.41388738, 0.99038345, 0.6436955 ],\n",
       "        [0.25130823, 0.20922382, 0.97715557, 0.44382656],\n",
       "        [0.519912  , 0.61102283, 0.9575943 , 0.9145434 ],\n",
       "        [0.33223853, 0.46196926, 0.4282976 , 0.5231973 ],\n",
       "        [0.531514  , 0.62162006, 0.9644212 , 0.9096819 ],\n",
       "        [0.28801113, 0.34459805, 0.39400274, 0.41137892],\n",
       "        [0.17324062, 0.85105634, 0.44304276, 0.95127165],\n",
       "        [0.9657298 , 0.6043026 , 0.9921083 , 0.6340212 ],\n",
       "        [0.67160547, 0.2229954 , 1.        , 0.37550753],\n",
       "        [0.9666397 , 0.3274487 , 1.        , 0.37219957],\n",
       "        [0.969958  , 0.22684072, 0.99980325, 0.27464896],\n",
       "        [0.1688462 , 0.27353984, 0.54753137, 0.7652543 ],\n",
       "        [0.61550295, 0.7922226 , 0.7297797 , 0.9247204 ],\n",
       "        [0.51649785, 0.18203256, 0.9598925 , 0.87320197],\n",
       "        [0.17897181, 0.86461633, 0.22283004, 0.89359015],\n",
       "        [0.41587013, 0.32893413, 0.66479224, 0.44196117],\n",
       "        [0.8672436 , 0.5933646 , 0.89641184, 0.626668  ],\n",
       "        [0.18990204, 0.46540678, 0.5755085 , 0.76376545],\n",
       "        [0.3435278 , 0.18407786, 0.7479547 , 0.42912436],\n",
       "        [0.8923848 , 0.32944962, 0.97572666, 0.37392852],\n",
       "        [0.8402311 , 0.03268656, 0.90207046, 0.10408892],\n",
       "        [0.73863226, 0.10058337, 0.796501  , 0.1398302 ],\n",
       "        [0.72055584, 0.64626545, 0.98779815, 0.78537124],\n",
       "        [0.59438753, 0.01156085, 0.9404863 , 0.12803054],\n",
       "        [0.6850424 , 0.5844396 , 0.9916934 , 0.7216583 ],\n",
       "        [0.86720717, 0.33319074, 0.9270582 , 0.3696285 ],\n",
       "        [0.7390779 , 0.06592743, 0.7983984 , 0.11081408],\n",
       "        [0.86187744, 0.5026336 , 0.9028188 , 0.5299127 ],\n",
       "        [0.6907418 , 0.15864033, 0.98600066, 0.69555575],\n",
       "        [0.40466422, 0.23458353, 0.59047943, 0.4364563 ],\n",
       "        [0.87567896, 0.44190717, 0.9035137 , 0.48292089],\n",
       "        [0.63392556, 0.54625237, 0.99977076, 0.7414341 ],\n",
       "        [0.45025802, 0.4298346 , 0.83826625, 0.59437513],\n",
       "        [0.20265487, 0.87801015, 0.37788084, 0.9394759 ],\n",
       "        [0.9414016 , 0.52714515, 0.99498653, 0.5814941 ],\n",
       "        [0.96695   , 0.6332043 , 0.99741155, 0.6921399 ],\n",
       "        [0.796467  , 0.1020503 , 0.8308899 , 0.14383174],\n",
       "        [0.27867204, 0.3419182 , 0.33872503, 0.41571698],\n",
       "        [0.86104524, 0.21153735, 0.9111172 , 0.24778302],\n",
       "        [0.8102683 , 0.17940505, 0.85127175, 0.20718278],\n",
       "        [0.17653117, 0.8982016 , 0.21731678, 0.9312273 ],\n",
       "        [0.9395742 , 0.76115495, 0.99819523, 0.8827823 ],\n",
       "        [0.84689265, 0.6394731 , 1.        , 0.7976754 ],\n",
       "        [0.42381513, 0.4029451 , 0.67403305, 0.50009215],\n",
       "        [0.5060345 , 0.48546556, 0.948457  , 0.9428532 ],\n",
       "        [0.6212814 , 0.24706782, 0.9364464 , 0.6945998 ],\n",
       "        [0.859832  , 0.54259723, 0.90605026, 0.5760414 ],\n",
       "        [0.7814489 , 0.00359102, 0.9837603 , 0.13650742],\n",
       "        [0.40008754, 0.23607586, 0.6821739 , 0.3971548 ],\n",
       "        [0.58432186, 0.4622289 , 0.984584  , 0.94785666],\n",
       "        [0.26691034, 0.87696   , 0.4278902 , 0.9405101 ],\n",
       "        [0.4053449 , 0.21480788, 0.7277952 , 0.29667595],\n",
       "        [0.6051584 , 0.3636942 , 0.98418874, 0.72851145],\n",
       "        [0.9513874 , 0.24164407, 0.9990058 , 0.32866645],\n",
       "        [0.79230446, 0.04371333, 0.85472125, 0.09144954],\n",
       "        [0.15405193, 0.9207055 , 0.45093766, 0.99914175],\n",
       "        [0.5866026 , 0.2721306 , 0.9889644 , 1.        ],\n",
       "        [0.46962065, 0.6125179 , 0.5977668 , 0.9104374 ],\n",
       "        [0.8637645 , 0.26711342, 0.9316422 , 0.31336775],\n",
       "        [0.87109315, 0.38786855, 0.9050013 , 0.41870776],\n",
       "        [0.44925112, 0.43599874, 0.73613495, 0.6239483 ],\n",
       "        [0.8483235 , 0.251285  , 0.99674386, 0.84108853],\n",
       "        [0.49529642, 0.49710128, 0.9043171 , 0.8702972 ],\n",
       "        [0.43130326, 0.54024804, 0.75998497, 0.6546743 ],\n",
       "        [0.8982799 , 0.7378727 , 0.972136  , 0.79856956],\n",
       "        [0.6084991 , 0.7703421 , 0.72644264, 0.8811319 ],\n",
       "        [0.68275076, 0.32907665, 0.9965258 , 0.9588536 ],\n",
       "        [0.94758415, 0.4925755 , 0.99731195, 0.52940434],\n",
       "        [0.338964  , 0.5501371 , 0.9107865 , 0.75068814],\n",
       "        [0.6213566 , 0.64962566, 1.        , 0.8460659 ],\n",
       "        [0.18709019, 0.81959206, 0.22520953, 0.85005385],\n",
       "        [0.2705223 , 0.8466658 , 0.43483055, 0.9146108 ],\n",
       "        [0.1528055 , 0.80358726, 0.45638627, 0.95202845],\n",
       "        [0.33573425, 0.23310778, 0.62550604, 0.3719029 ],\n",
       "        [0.87047607, 0.59323823, 0.98993415, 0.64641225],\n",
       "        [0.4234921 , 0.25478595, 0.58844197, 0.30540907],\n",
       "        [0.83000493, 0.        , 0.9949924 , 0.1699843 ],\n",
       "        [0.5486409 , 0.06664538, 0.84754664, 0.18696839],\n",
       "        [0.5272442 , 0.6603415 , 0.97300065, 0.93324935],\n",
       "        [0.40413153, 0.24416707, 0.70461214, 0.42718047],\n",
       "        [0.5682669 , 0.        , 0.7563824 , 0.18036619],\n",
       "        [0.4503622 , 0.2304023 , 0.64712   , 0.44599134],\n",
       "        [0.11340317, 0.3140673 , 0.616181  , 0.57163614],\n",
       "        [0.13748294, 0.7733215 , 0.7269424 , 0.97932494],\n",
       "        [0.6600587 , 0.44870633, 0.9508316 , 0.58106416],\n",
       "        [0.5477781 , 0.635398  , 0.93893194, 0.7823245 ],\n",
       "        [0.73963   , 0.5478283 , 0.98713684, 0.68411815],\n",
       "        [0.8737864 , 0.5229145 , 0.97582895, 0.5839217 ],\n",
       "        [0.8692542 , 0.07020468, 0.9955446 , 0.7641055 ],\n",
       "        [0.17287466, 0.42824307, 0.6110729 , 0.67539775],\n",
       "        [0.4906751 , 0.01032634, 0.8415077 , 0.13845836],\n",
       "        [0.67053175, 0.19499637, 0.9834316 , 0.273255  ],\n",
       "        [0.8334536 , 0.5909828 , 0.9938733 , 0.7265825 ],\n",
       "        [0.4814969 , 0.6830832 , 0.9427662 , 0.9548019 ],\n",
       "        [0.18234071, 0.8879183 , 0.3064982 , 0.94560224],\n",
       "        [0.09237668, 0.34202832, 0.5073719 , 0.7212978 ]], dtype=float32)>,\n",
       " 'detection_scores': <tf.Tensor: shape=(100,), dtype=float32, numpy=\n",
       " array([0.6458199 , 0.57926255, 0.57642055, 0.56007326, 0.34850636,\n",
       "        0.27405068, 0.2396657 , 0.23288544, 0.17457318, 0.16758956,\n",
       "        0.14693685, 0.13762428, 0.12499803, 0.1201249 , 0.11455708,\n",
       "        0.11316867, 0.11286938, 0.11052917, 0.10919388, 0.10814925,\n",
       "        0.10131663, 0.10015532, 0.09986416, 0.09920625, 0.09862374,\n",
       "        0.09631305, 0.09620818, 0.09585836, 0.09494627, 0.09474266,\n",
       "        0.09378246, 0.09156737, 0.09138031, 0.09101535, 0.08868115,\n",
       "        0.08857366, 0.08855946, 0.0883552 , 0.08828755, 0.08826184,\n",
       "        0.08812705, 0.08771082, 0.08728153, 0.08698671, 0.0867922 ,\n",
       "        0.08678269, 0.08491842, 0.08421741, 0.08362217, 0.08264905,\n",
       "        0.08263226, 0.0821471 , 0.08142544, 0.08028367, 0.07992805,\n",
       "        0.07965426, 0.07874748, 0.07733683, 0.07714897, 0.07562979,\n",
       "        0.07413922, 0.07322819, 0.07249271, 0.072253  , 0.07206205,\n",
       "        0.07202648, 0.0717848 , 0.07078524, 0.07044861, 0.07014532,\n",
       "        0.06993741, 0.069714  , 0.06957588, 0.06928951, 0.06867332,\n",
       "        0.06849086, 0.06815057, 0.06812604, 0.06769127, 0.0671237 ,\n",
       "        0.06600136, 0.06598843, 0.06565522, 0.0652501 , 0.06470948,\n",
       "        0.06355759, 0.06289991, 0.06273854, 0.06261104, 0.06253853,\n",
       "        0.06239132, 0.06206506, 0.06203996, 0.06159574, 0.06150391,\n",
       "        0.0611016 , 0.05992435, 0.05946845, 0.05922627, 0.05917461],\n",
       "       dtype=float32)>}"
      ]
     },
     "execution_count": 2,
     "metadata": {},
     "output_type": "execute_result"
    }
   ],
   "source": [
    "# Load MobileNetV2 Object detection model\n",
    "model = hub.load(\"https://tfhub.dev/google/openimages_v4/ssd/mobilenet_v2/1\").signatures['default']\n",
    "object_detection = ObjectDetection(model)\n",
    "\n",
    "# Load a dummy image to initialize the model, otherwise first request of API call takes much more time\n",
    "place_holder_img = Image.open('./img_2.jpg')\n",
    "place_holder_tensor = object_detection.convert_image_to_tensor(place_holder_img, 'jpeg')\n",
    "model(place_holder_tensor)"
   ]
  },
  {
   "cell_type": "markdown",
   "metadata": {},
   "source": [
    "### Helper Function to Detect Objects"
   ]
  },
  {
   "cell_type": "code",
   "execution_count": 3,
   "metadata": {},
   "outputs": [],
   "source": [
    "def detect_object(base_image, image_type):\n",
    "    raw_detections = object_detection.detect(model, base_image, image_type)\n",
    "    filtered_detections = object_detection.filter_results(raw_detections, max_n_object=5, min_score=0.15)\n",
    "    annotated_image = draw_boxes(base_image, filtered_detections)\n",
    "    \n",
    "    buffered = BytesIO()\n",
    "    if image_type == 'jpg':\n",
    "        annotated_image.save(buffered, format='jpeg')\n",
    "    else:\n",
    "        annotated_image.save(buffered, format=image_type)\n",
    "    annotated_image_base64 = base64.b64encode(buffered.getvalue())\n",
    "    return {\n",
    "        'image': annotated_image_base64.decode('utf-8'),\n",
    "        'type': image_type,\n",
    "        'objects': [detected_object.decode('UTF-8') \n",
    "                    for detected_object in raw_detections['detection_class_entities'].numpy().tolist()],\n",
    "        'scores': raw_detections['detection_scores'].numpy().tolist(),\n",
    "        'detection_boxes': raw_detections['detection_boxes'].numpy().tolist(),\n",
    "        'detection_class_labels': raw_detections['detection_class_labels'].numpy().tolist(),\n",
    "    }"
   ]
  },
  {
   "cell_type": "markdown",
   "metadata": {},
   "source": [
    "### Helper Function to Annotate Image with the Detected Boxes"
   ]
  },
  {
   "cell_type": "code",
   "execution_count": 4,
   "metadata": {},
   "outputs": [],
   "source": [
    "def draw_boxes(base_image, detected_object_specs):    \n",
    "    class_entities = detected_object_specs['detection_class_entities']\n",
    "    scores = detected_object_specs['detection_scores']\n",
    "    boxes = detected_object_specs['detection_boxes']\n",
    "    \n",
    "    # Start drawing the rectangles from having least score to highest score\n",
    "    for i in range(scores.size-1, -1, -1):\n",
    "        rectangle = Rectangle(*tuple(boxes[i]))\n",
    "        predicted_class = class_entities[i].decode(\"ascii\")\n",
    "        display_str = \"{}: {}%\".format(predicted_class, int(100 * scores[i]))\n",
    "        \n",
    "        # Draw Bounding Box to the base image\n",
    "        BoundingBox(base_image).draw_bounding_box_to_base_image(rectangle, predicted_class, thickness=5)\n",
    "        \n",
    "        # Draw Predicted Class to the base image\n",
    "        BoundingBox(base_image).draw_predicted_class(rectangle, display_str)\n",
    "    return base_image"
   ]
  },
  {
   "cell_type": "markdown",
   "metadata": {},
   "source": [
    "### Dploy-ai Endpoint Function to Deploy the Model"
   ]
  },
  {
   "cell_type": "code",
   "execution_count": 5,
   "metadata": {},
   "outputs": [],
   "source": [
    "#' @dploy endpoint predict\n",
    "def annotate_base64_image(body):\n",
    "    base64_image = body['image'].encode('utf-8')\n",
    "    image_type = body['type']\n",
    "    \n",
    "    # Convert image from base64 to PIL Image object\n",
    "    PIL_image = Image.open(BytesIO(base64.b64decode(base64_image)))\n",
    "    return detect_object(PIL_image, image_type)"
   ]
  },
  {
   "cell_type": "markdown",
   "metadata": {},
   "source": [
    "## Testing"
   ]
  },
  {
   "cell_type": "code",
   "execution_count": 6,
   "metadata": {
    "scrolled": false
   },
   "outputs": [
    {
     "name": "stdout",
     "output_type": "stream",
     "text": [
      "0.17841887474060059\n"
     ]
    }
   ],
   "source": [
    "import json\n",
    "_time = time.time()\n",
    "with open(\"./img_1.jpg\", \"rb\") as img_file:\n",
    "    body = {\n",
    "        'image': base64.b64encode(img_file.read()).decode('utf-8'),\n",
    "        'type': 'jpg'\n",
    "    }\n",
    "response = annotate_base64_image(body)\n",
    "#Image.open(BytesIO(base64.b64decode(response['image']))).show()\n",
    "print(time.time() - _time)"
   ]
  },
  {
   "cell_type": "code",
   "execution_count": null,
   "metadata": {},
   "outputs": [],
   "source": []
  }
 ],
 "metadata": {
  "kernelspec": {
   "display_name": "model-zoo",
   "language": "python",
   "name": "model-zoo"
  },
  "language_info": {
   "codemirror_mode": {
    "name": "ipython",
    "version": 3
   },
   "file_extension": ".py",
   "mimetype": "text/x-python",
   "name": "python",
   "nbconvert_exporter": "python",
   "pygments_lexer": "ipython3",
   "version": "3.7.6"
  }
 },
 "nbformat": 4,
 "nbformat_minor": 4
}
